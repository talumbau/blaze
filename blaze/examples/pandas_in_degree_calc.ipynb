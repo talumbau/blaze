{
 "metadata": {
  "name": "",
  "signature": "sha256:5ddbe9a0e911816bab6b45484a793b55f4cd13028ec116da1a1911c9ce1f8386"
 },
 "nbformat": 3,
 "nbformat_minor": 0,
 "worksheets": [
  {
   "cells": [
    {
     "cell_type": "code",
     "collapsed": false,
     "input": [
      "import blaze\n",
      "\n",
      "from blaze.data import CSV\n",
      "\n",
      "from blaze.compute.pandas import *\n",
      "from blaze.expr.table import *\n",
      "from pandas import DataFrame\n",
      "from blaze.expr.table import *\n",
      "import math"
     ],
     "language": "python",
     "metadata": {},
     "outputs": [],
     "prompt_number": 1
    },
    {
     "cell_type": "heading",
     "level": 3,
     "metadata": {},
     "source": [
      "Create the table expressions and specify the calculation. We join on node_id and count the occurrences of node_id in second column\n"
     ]
    },
    {
     "cell_type": "code",
     "collapsed": false,
     "input": [
      "t_idx = TableSymbol('{name: string, node_id: int32}')\n",
      "t_arc = TableSymbol('{node_out: int32, node_id: int32}')\n",
      "joined = Join(t_arc, t_idx, \"node_id\", \"node_id\")\n",
      "t = By(joined, joined['name'], joined['node_id'].count())"
     ],
     "language": "python",
     "metadata": {},
     "outputs": [],
     "prompt_number": 2
    },
    {
     "cell_type": "heading",
     "level": 3,
     "metadata": {},
     "source": [
      "Load the data into pandas DataFrams"
     ]
    },
    {
     "cell_type": "code",
     "collapsed": false,
     "input": [
      "with open(\"/Users/talumbau/Downloads/example_index.txt\") as f:\n",
      "    data_idx = [ ln.strip().split('\\t') for ln in f.readlines()]\n",
      "\n",
      "dffull_idx = DataFrame(data_idx, columns=['name', 'node_id'])\n",
      "\n",
      "with open(\"/Users/talumbau/Downloads/example_arcs.txt\") as f:\n",
      "    data_arc = [ ln.strip().split('\\t') for ln in f.readlines()]\n",
      "\n",
      "dffull_arc = DataFrame(data_arc, columns=['node_out', 'node_id'])"
     ],
     "language": "python",
     "metadata": {},
     "outputs": [],
     "prompt_number": 3
    },
    {
     "cell_type": "heading",
     "level": 3,
     "metadata": {},
     "source": [
      "Do the computation"
     ]
    },
    {
     "cell_type": "code",
     "collapsed": false,
     "input": [
      "ans = compute(t, {t_arc: dffull_arc, t_idx:dffull_idx})"
     ],
     "language": "python",
     "metadata": {},
     "outputs": [],
     "prompt_number": 6
    },
    {
     "cell_type": "code",
     "collapsed": false,
     "input": [
      "in_deg = dict(ans)"
     ],
     "language": "python",
     "metadata": {},
     "outputs": [],
     "prompt_number": 7
    },
    {
     "cell_type": "heading",
     "level": 3,
     "metadata": {},
     "source": [
      "Find the in-degree of blogspot.com in the example data set"
     ]
    },
    {
     "cell_type": "code",
     "collapsed": false,
     "input": [
      "in_deg[u'blogspot.com']"
     ],
     "language": "python",
     "metadata": {},
     "outputs": [
      {
       "metadata": {},
       "output_type": "pyout",
       "prompt_number": 8,
       "text": [
        "14"
       ]
      }
     ],
     "prompt_number": 8
    },
    {
     "cell_type": "code",
     "collapsed": false,
     "input": [],
     "language": "python",
     "metadata": {},
     "outputs": []
    }
   ],
   "metadata": {}
  }
 ]
}