{
 "metadata": {
  "name": "",
  "signature": "sha256:4f9269fa692800a8ce31949544665aa039be3ee776af1139583ba8e620b3937a"
 },
 "nbformat": 3,
 "nbformat_minor": 0,
 "worksheets": [
  {
   "cells": [
    {
     "cell_type": "code",
     "collapsed": false,
     "input": [
      "import blaze\n",
      "import matplotlib\n",
      "import networkx as nx\n",
      "from blaze.data import CSV\n",
      "from blaze.expr.table import *\n",
      "from blaze.compute.spark import *\n",
      "from pyspark import SparkContext\n",
      "from in_degree import indeg\n"
     ],
     "language": "python",
     "metadata": {},
     "outputs": [],
     "prompt_number": 1
    },
    {
     "cell_type": "heading",
     "level": 3,
     "metadata": {},
     "source": [
      "Jaccard Similarity"
     ]
    },
    {
     "cell_type": "markdown",
     "metadata": {},
     "source": [
      "Here we calculate the Jaccard Similarity for in-degree of websites with a sample graph. \n",
      "\n",
      "The Jaccard similarity for any two nodes is the ratio of the common neighbors of $i$ and $j$ to the set of all neighbors of $i$ and $j$.\n",
      "\n",
      "For this in-degree computation, a neighbor of node $i$ (denoted $n(i)$) is a site that links to node $i$.\n",
      "The Jaccard similarity of nodes $i$ and $j$ is:\n"
     ]
    },
    {
     "cell_type": "heading",
     "level": 4,
     "metadata": {},
     "source": [
      "\n",
      "\n",
      "$$J(i,j) = \\frac{|n(i) \\cap n(j)|}{|n(i) \\cup n(j)| }$$"
     ]
    },
    {
     "cell_type": "code",
     "collapsed": false,
     "input": [
      "#The tables we need to work with\n",
      "t_idx = TableSymbol('{name: string, node_id: int32}') #Index of sites\n",
      "t_arc = TableSymbol('{node_out: int32, node_id: int32}') # Links between sites\n",
      "t_full = TableSymbol('{node_out: int32, node_id: int32, name:string}') #The Joined table\n",
      "t_sel = TableSymbol('{name: string}') # A Selection table for just site names\n"
     ],
     "language": "python",
     "metadata": {},
     "outputs": [],
     "prompt_number": 2
    },
    {
     "cell_type": "code",
     "collapsed": false,
     "input": [
      "#Do a join against node ID to get the site name in the table\n",
      "join_names = Join(t_arc, t_idx, \"node_id\")\n",
      "#Doing a join with t_full and t_sel to do a selection\n",
      "user_selected = Join(join_names, t_sel, \"name\")\n",
      "#Project out just the nodes for this computation, since we just need node IDs\n",
      "proj_of_nodes = user_selected[['node_out', 'node_id']]\n",
      "node_selfjoin = Join(proj_of_nodes, proj_of_nodes.relabel(\n",
      "    {'node_id':'node_other'}), \"node_out\")\n",
      "#Filter here to get (a,b) node pairs where a < b\n",
      "flter = node_selfjoin[ node_selfjoin['node_id'] < node_selfjoin['node_other']]\n",
      "\"\"\"\n",
      "Then a groupBy on the node pairs, counting each node in the group. This is numerator\n",
      "for the calculation!\n",
      "\"\"\"\n",
      "gby = By(flter, flter[['node_id', 'node_other']], flter['node_out'].count())\n",
      "\n",
      "\"\"\" The denominator is a much easier calculation. Just need the in-neighbor for each node\"\"\"\n",
      "indeg_joined = Join(t_arc, t_idx, 'node_id')\n",
      "indeg_t = By(indeg_joined, indeg_joined['node_id'], indeg_joined['node_id'].count())\n"
     ],
     "language": "python",
     "metadata": {},
     "outputs": [],
     "prompt_number": 3
    },
    {
     "cell_type": "heading",
     "level": 3,
     "metadata": {},
     "source": [
      "Now we compute on just some pure Python data"
     ]
    },
    {
     "cell_type": "code",
     "collapsed": false,
     "input": [
      "data_idx = [['A', 1],['B', 2],['C', 3],['D', 4],['E', 5],['F', 6]]\n",
      "data_arc = [[1, 3],[2, 3],[4, 3],[5, 3],[3, 1],[2, 1],[5, 1],[1, 6],[2, 6],[4, 6]]\n",
      "idx_lookup = dict(reversed(pair) for pair in data_idx)\n",
      "G = nx.DiGraph()\n",
      "G.add_edges_from(data_arc)"
     ],
     "language": "python",
     "metadata": {},
     "outputs": [],
     "prompt_number": 12
    },
    {
     "cell_type": "code",
     "collapsed": false,
     "input": [
      "import matplotlib\n",
      "%matplotlib inline\n",
      "nx.draw(G, arrows=True)"
     ],
     "language": "python",
     "metadata": {},
     "outputs": [
      {
       "metadata": {},
       "output_type": "display_data",
       "png": "[encoded data removed]",
       "text": [
        "<matplotlib.figure.Figure at 0x109022310>"
       ]
      }
     ],
     "prompt_number": 13
    },
    {
     "cell_type": "markdown",
     "metadata": {},
     "source": [
      "Node 3 (named 'C') and Node 6 ('F') are very similar, since they share in-neighbors 4, 2, and 1. Node 3 has an in-neighbor of Node 5 which Node 6 does not have."
     ]
    },
    {
     "cell_type": "code",
     "collapsed": false,
     "input": [
      "#The subset we care about\n",
      "data_sel = [['C'],['F']]\n",
      "#Compute on the pure python data\n",
      "shared_neighbor_num = compute(gby, {t_sel: data_sel, t_arc:data_arc, t_idx:data_idx})\n",
      "indeg = compute(indeg_t, {t_arc: data_arc, t_idx:data_idx})\n",
      "indeg_py = dict(indeg)"
     ],
     "language": "python",
     "metadata": {},
     "outputs": [],
     "prompt_number": 14
    },
    {
     "cell_type": "code",
     "collapsed": false,
     "input": [
      "print indeg_py\n",
      "print shared_neighbor_num"
     ],
     "language": "python",
     "metadata": {},
     "outputs": [
      {
       "output_type": "stream",
       "stream": "stdout",
       "text": [
        "{1: 3, 3: 4, 6: 3}\n",
        "[((3, 6), 3)]\n"
       ]
      }
     ],
     "prompt_number": 15
    },
    {
     "cell_type": "code",
     "collapsed": false,
     "input": [
      "jaccard = float(shared_neighbor_num[0][1])/float(indeg_py[3]+indeg_py[6]-shared_neighbor_num[0][1])\n",
      "print jaccard"
     ],
     "language": "python",
     "metadata": {},
     "outputs": [
      {
       "output_type": "stream",
       "stream": "stdout",
       "text": [
        "0.75\n"
       ]
      }
     ],
     "prompt_number": 16
    },
    {
     "cell_type": "heading",
     "level": 3,
     "metadata": {},
     "source": [
      "Now we compute on the Spark data set:"
     ]
    },
    {
     "cell_type": "code",
     "collapsed": false,
     "input": [
      "#Get the SparkContext and read in the data \n",
      "sc = SparkContext(\"local\", \"Simple App\")\n",
      "rddidx = sc.textFile(\"hdfs://master.atx.continuum.io:9000/user/local/example/example_index.txt\")\n",
      "rddidx = rddidx.map(lambda x: x.split('\\t')).map(lambda x: [x[0], int(x[1])])\n",
      "rddarc = sc.textFile(\"hdfs://master.atx.continuum.io:9000/user/local/example/example_arcs.txt\")\n",
      "rddarc = rddarc.map(lambda x: x.split('\\t')).map(lambda x: [int(x[0]), int(x[1])])\n",
      "id_to_names = dict([(str(ln[1]), str(ln[0])) for ln in rddidx.collect()])"
     ],
     "language": "python",
     "metadata": {},
     "outputs": [],
     "prompt_number": 4
    },
    {
     "cell_type": "code",
     "collapsed": false,
     "input": [
      "#The subset of nodes we care about (presumably user input)\n",
      "data_raw = ['abebooks.de 3',\n",
      " 'amazon-presse.de 4',\n",
      " 'amazon.ca 5',\n",
      " 'amazon.cn 6',\n",
      " 'amazon.co.jp 7',\n",
      " 'amazon.co.uk 8',\n",
      " 'amazon.com 9',\n",
      " 'blogg.se 23',\n",
      " 'blogia.com 24',\n",
      " 'blogspot.com 25',\n",
      " 'bookdepository.co.uk 26',\n",
      " 'bookdepository.com27',\n",
      " 'rivals.com80',\n",
      " 'shopbop.com 82',\n",
      " 'smallparts.com 83',\n",
      " 'soap.com 84',\n",
      " 'spreadshirt.com 85',\n",
      " 'tinyurl.com 87',\n",
      " 'tumblr.com 88',\n",
      " 'twitter.com 89']\n",
      "\n",
      "data_sel = [[unicode(ln.split(' ')[0])] for ln in data_raw]\n",
      "rddsel = sc.parallelize(data_sel)"
     ],
     "language": "python",
     "metadata": {},
     "outputs": [],
     "prompt_number": 5
    },
    {
     "cell_type": "code",
     "collapsed": false,
     "input": [
      "#Now we compute the shared neighbors calculation (needed for the numerator)\n",
      "ans = compute(gby, {t_sel: rddsel, t_arc:rddarc, t_idx:rddidx})\n",
      "shared_neighbors = ans.collect()\n"
     ],
     "language": "python",
     "metadata": {},
     "outputs": [],
     "prompt_number": 6
    },
    {
     "cell_type": "code",
     "collapsed": false,
     "input": [
      "#Now do the in-degree neighbor calculation (needed for the denominator)\n",
      "indeg_rdd = compute(indeg_t, {t_arc: rddarc, t_idx:rddidx})\n",
      "indeg_data = dict(indeg_rdd.collect())"
     ],
     "language": "python",
     "metadata": {},
     "outputs": [],
     "prompt_number": 7
    },
    {
     "cell_type": "heading",
     "level": 3,
     "metadata": {},
     "source": [
      "We now have everything we need to calculate $J(i,j)$.\n",
      "\n",
      "\n"
     ]
    },
    {
     "cell_type": "heading",
     "level": 4,
     "metadata": {},
     "source": [
      "(Because of the sparsity of the dataset, we disregard data that has only one common node)"
     ]
    },
    {
     "cell_type": "code",
     "collapsed": false,
     "input": [
      "#Calculate ratio of Intersection(in-neighbors) / Union(in-neighbors) for each pair\n",
      "jaccard = {}\n",
      "for (i,j), k in shared_neighbors:\n",
      "    jccrd_num = k\n",
      "    jccrd_denom = indeg_data[i] + indeg_data[j] - k\n",
      "    jccrd = float(jccrd_num)/float(jccrd_denom) if jccrd_denom > 1 and jccrd_num >1 else 0\n",
      "    jaccard[(id_to_names[str(i)],id_to_names[str(j)])] = jccrd\n",
      "    \n",
      "    "
     ],
     "language": "python",
     "metadata": {},
     "outputs": [],
     "prompt_number": 8
    },
    {
     "cell_type": "code",
     "collapsed": false,
     "input": [
      "results = list(jaccard.items())"
     ],
     "language": "python",
     "metadata": {},
     "outputs": [],
     "prompt_number": 9
    },
    {
     "cell_type": "code",
     "collapsed": false,
     "input": [
      "srted_results = sorted(results, key= lambda x: x[1], reverse=True)"
     ],
     "language": "python",
     "metadata": {},
     "outputs": [],
     "prompt_number": 10
    },
    {
     "cell_type": "code",
     "collapsed": false,
     "input": [
      "srted_results[:15]"
     ],
     "language": "python",
     "metadata": {},
     "outputs": [
      {
       "metadata": {},
       "output_type": "pyout",
       "prompt_number": 11,
       "text": [
        "[(('amazon.com', 'bookdepository.co.uk'), 1.0),\n",
        " (('amazon.ca', 'shopbop.com'), 1.0),\n",
        " (('amazon.cn', 'shopbop.com'), 1.0),\n",
        " (('amazon.cn', 'amazon.co.uk'), 1.0),\n",
        " (('amazon.ca', 'amazon.cn'), 1.0),\n",
        " (('amazon.co.uk', 'shopbop.com'), 1.0),\n",
        " (('amazon.ca', 'amazon.co.uk'), 1.0),\n",
        " (('amazon.ca', 'amazon.com'), 0.6666666666666666),\n",
        " (('amazon.com', 'shopbop.com'), 0.6666666666666666),\n",
        " (('amazon.cn', 'amazon.co.jp'), 0.6666666666666666),\n",
        " (('bookdepository.co.uk', 'shopbop.com'), 0.6666666666666666),\n",
        " (('amazon.co.uk', 'amazon.com'), 0.6666666666666666),\n",
        " (('amazon.ca', 'bookdepository.co.uk'), 0.6666666666666666),\n",
        " (('amazon.co.uk', 'bookdepository.co.uk'), 0.6666666666666666),\n",
        " (('amazon.cn', 'bookdepository.co.uk'), 0.6666666666666666)]"
       ]
      }
     ],
     "prompt_number": 11
    },
    {
     "cell_type": "code",
     "collapsed": false,
     "input": [],
     "language": "python",
     "metadata": {},
     "outputs": []
    }
   ],
   "metadata": {}
  }
 ]
}