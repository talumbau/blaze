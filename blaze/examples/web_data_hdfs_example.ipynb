{
 "metadata": {
  "name": "",
  "signature": "sha256:3c36adaade2b059e2297708cceba5a7b10e8caccee4456647e287cbfc4c9a2d2"
 },
 "nbformat": 3,
 "nbformat_minor": 0,
 "worksheets": [
  {
   "cells": [
    {
     "cell_type": "code",
     "collapsed": false,
     "input": [
      "import blaze"
     ],
     "language": "python",
     "metadata": {},
     "outputs": [],
     "prompt_number": 1
    },
    {
     "cell_type": "code",
     "collapsed": false,
     "input": [
      "import pyspark"
     ],
     "language": "python",
     "metadata": {},
     "outputs": [],
     "prompt_number": 2
    },
    {
     "cell_type": "code",
     "collapsed": false,
     "input": [
      "from pyspark import SparkContext\n"
     ],
     "language": "python",
     "metadata": {},
     "outputs": [],
     "prompt_number": 3
    },
    {
     "cell_type": "code",
     "collapsed": false,
     "input": [
      "sc = SparkContext(\"local\", \"Simple App\")"
     ],
     "language": "python",
     "metadata": {},
     "outputs": [],
     "prompt_number": 4
    },
    {
     "cell_type": "heading",
     "level": 3,
     "metadata": {},
     "source": [
      "Read in the index file from HDFS"
     ]
    },
    {
     "cell_type": "code",
     "collapsed": false,
     "input": [
      "ex1 = sc.textFile(\"hdfs://master.atx.continuum.io:9000/user/local/example/example_index.txt\")"
     ],
     "language": "python",
     "metadata": {},
     "outputs": [],
     "prompt_number": 5
    },
    {
     "cell_type": "code",
     "collapsed": false,
     "input": [
      "pyspark.__file__"
     ],
     "language": "python",
     "metadata": {},
     "outputs": [
      {
       "metadata": {},
       "output_type": "pyout",
       "prompt_number": 6,
       "text": [
        "'/Users/talumbau/dev/cdh5spark/spark-0.9.1/python/pyspark/__init__.pyc'"
       ]
      }
     ],
     "prompt_number": 6
    },
    {
     "cell_type": "code",
     "collapsed": false,
     "input": [
      "ex1split = ex1.map(lambda x: x.split('\\t'))"
     ],
     "language": "python",
     "metadata": {},
     "outputs": [],
     "prompt_number": 7
    },
    {
     "cell_type": "code",
     "collapsed": false,
     "input": [
      "id_to_names = ex1split.collect()"
     ],
     "language": "python",
     "metadata": {},
     "outputs": [],
     "prompt_number": 9
    },
    {
     "cell_type": "code",
     "collapsed": false,
     "input": [
      "name_map = dict( (_id[1], _id[0]) for _id in id_to_names)"
     ],
     "language": "python",
     "metadata": {},
     "outputs": [],
     "prompt_number": 11
    },
    {
     "cell_type": "heading",
     "level": 3,
     "metadata": {},
     "source": [
      "Read in the arc file from HDFS"
     ]
    },
    {
     "cell_type": "code",
     "collapsed": false,
     "input": [
      "ex2 = sc.textFile(\"hdfs://master.atx.continuum.io:9000/user/local/example/example_arcs.txt\")"
     ],
     "language": "python",
     "metadata": {},
     "outputs": [],
     "prompt_number": 12
    },
    {
     "cell_type": "heading",
     "level": 3,
     "metadata": {},
     "source": [
      "Calculate the in-degree of each node"
     ]
    },
    {
     "cell_type": "code",
     "collapsed": false,
     "input": [
      "indegree = ex2.map(lambda x: x.split('\\t')).map(lambda x: (x[1], x[0])).countByKey()"
     ],
     "language": "python",
     "metadata": {},
     "outputs": [],
     "prompt_number": 13
    },
    {
     "cell_type": "heading",
     "level": 3,
     "metadata": {},
     "source": [
      "Find the max in-degree website across the data set"
     ]
    },
    {
     "cell_type": "code",
     "collapsed": false,
     "input": [
      "max = -1\n",
      "max_name = \"\"\n",
      "for i, j in indegree.iteritems():\n",
      "    if (j > max):\n",
      "        max = j\n",
      "        max_name = name_map[i]\n",
      "print max_name, max"
     ],
     "language": "python",
     "metadata": {},
     "outputs": [
      {
       "output_type": "stream",
       "stream": "stdout",
       "text": [
        "blogspot.com 14\n"
       ]
      }
     ],
     "prompt_number": 15
    },
    {
     "cell_type": "code",
     "collapsed": false,
     "input": [],
     "language": "python",
     "metadata": {},
     "outputs": []
    }
   ],
   "metadata": {}
  }
 ]
}