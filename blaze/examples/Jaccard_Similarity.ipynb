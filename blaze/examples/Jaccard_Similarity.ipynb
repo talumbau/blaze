{
 "metadata": {
  "name": "",
  "signature": "sha256:7487f7bae054acdb0c38879e35f819420a09170ab31c439e6d2f29449181b1ec"
 },
 "nbformat": 3,
 "nbformat_minor": 0,
 "worksheets": [
  {
   "cells": [
    {
     "cell_type": "code",
     "collapsed": false,
     "input": [
      "import blaze\n",
      "from blaze.data import CSV\n",
      "from blaze.expr.table import *\n",
      "from blaze.compute.spark import *\n",
      "from pyspark import SparkContext\n",
      "from in_degree import indeg"
     ],
     "language": "python",
     "metadata": {},
     "outputs": [],
     "prompt_number": 1
    },
    {
     "cell_type": "heading",
     "level": 3,
     "metadata": {},
     "source": [
      "Jaccard Similarity"
     ]
    },
    {
     "cell_type": "markdown",
     "metadata": {},
     "source": [
      "Here we calculate the Jaccard Similarity for in-degree of websites with a sample graph. \n",
      "\n",
      "The Jaccard similarity for any two nodes is the ratio of the common neighbors of $i$ and $j$ to the set of all neighbors of $i$ and $j$.\n",
      "\n",
      "For this in-degree computation, a neighbor of node $i$ is a site that links to node $i$.\n",
      "Given this definition, the Jaccard similarity of nodes $i$ and $j$ is:\n"
     ]
    },
    {
     "cell_type": "heading",
     "level": 4,
     "metadata": {},
     "source": [
      "\n",
      "\n",
      "$$J(i,j) = \\frac{n(i) \\cap n(j)}{n(i) \\cup n(j) }$$"
     ]
    },
    {
     "cell_type": "heading",
     "level": 3,
     "metadata": {},
     "source": [
      "Read HDFS data"
     ]
    },
    {
     "cell_type": "code",
     "collapsed": false,
     "input": [
      "#The subset of nodes we care about (presumably user input)\n",
      "with open(\"/Users/talumbau/Downloads/subset_data.txt\") as f:\n",
      "    data_sel = [[unicode(ln.split('\\t')[0])] for ln in f.readlines()]\n",
      "\n",
      "#The tables we need to work with\n",
      "t_idx = TableSymbol('{name: string, node_id: int32}')\n",
      "t_arc = TableSymbol('{node_out: int32, node_id: int32}')\n",
      "t_full = TableSymbol('{node_out: int32, node_id: int32, name:string}')\n",
      "t_sel = TableSymbol('{name: string}')\n",
      "sc = SparkContext(\"local\", \"Simple App\")\n",
      "\n",
      "rddidx = sc.textFile(\"hdfs://master.atx.continuum.io:9000/user/local/example/example_index.txt\")\n",
      "rddidx = rddidx.map(lambda x: x.split('\\t')).map(lambda x: [x[0], int(x[1])])\n",
      "rddarc = sc.textFile(\"hdfs://master.atx.continuum.io:9000/user/local/example/example_arcs.txt\")\n",
      "rddarc = rddarc.map(lambda x: x.split('\\t')).map(lambda x: [int(x[0]), int(x[1])])\n",
      "rddsel = sc.parallelize(data_sel)"
     ],
     "language": "python",
     "metadata": {},
     "outputs": [],
     "prompt_number": 2
    },
    {
     "cell_type": "code",
     "collapsed": false,
     "input": [
      "#First we do the in-degree calculation done previously\n",
      "indeg_rdd = indeg(t_arc, t_idx, rddarc, rddidx, join_col=\"node_id\",\n",
      "                  groupby_col=\"node_id\")\n",
      "\n",
      "indeg_joined = Join(t_arc, t_idx, 'node_id')\n",
      "indeg_t = By(indeg_joined, indeg_joined['node_id'], indeg_joined['node_id'].count())\n",
      "indeg_rdd = compute(indeg_t, {t_arc: rddarc, t_idx:rddidx})"
     ],
     "language": "python",
     "metadata": {},
     "outputs": [],
     "prompt_number": 3
    },
    {
     "cell_type": "code",
     "collapsed": false,
     "input": [
      "#Do the join against node ID to get the site name in the table\n",
      "joined = Join(t_arc, t_idx, \"node_id\")\n",
      "#Doing a join with t_full and t_sel to do a selection\n",
      "jnd_sel = Join(joined, t_sel, \"name\")\n",
      "#The selected subset of data we care about based on user input\n",
      "sel_data = compute(jnd_sel, {t_sel:rddsel, t_arc:rddarc, t_idx:rddidx})\n",
      "\n",
      "#Select out just the nodes for this computation, just need node IDs\n",
      "n_to_innode = compute(t_full[['node_out', 'node_id']], sel_data)\n",
      "join_on_self = Join(t_arc, t_arc, \"node_out\")\n",
      "self_join_rdd = compute(join_on_self, {t_arc:n_to_innode})\n",
      "\n",
      "#Filter here to get (a,b) node pairs where a < b\n",
      "t_jos = TableSymbol('{node_out: int32, node_id: int32, node_other: int32}')\n",
      "sj_out = compute(t_jos[t_jos['node_id'] < t_jos['node_other']], self_join_rdd)\n",
      "\n",
      "\"\"\"\n",
      "Then a groupBy on the node pairs, counting each node in the group. This is numerator\n",
      "for the calculation!\n",
      "\"\"\"\n",
      "\n",
      "gby = By(t_jos, t_jos[['node_id', 'node_other']], t_jos['node_out'].count())\n",
      "ans = compute(gby, {t_jos: sj_out})\n",
      "shared_neighbors = ans.collect()\n",
      "\n",
      "indeg_data = dict(indeg_rdd.collect())"
     ],
     "language": "python",
     "metadata": {},
     "outputs": [],
     "prompt_number": 4
    },
    {
     "cell_type": "code",
     "collapsed": false,
     "input": [
      "#Calculate ratio of Intersection(in-neighbors) / Union(in-neighbors) for each pair\n",
      "\"\"\"\n",
      "Map the id names back to site names (need to clean this up)\n",
      "\"\"\"\n",
      "with open(\"/Users/talumbau/Downloads/example_index.txt\") as f:\n",
      "    id_to_names = dict( reversed(ln.strip().split('\\t')) for ln in f.readlines())\n",
      "    "
     ],
     "language": "python",
     "metadata": {},
     "outputs": [],
     "prompt_number": 5
    },
    {
     "cell_type": "heading",
     "level": 3,
     "metadata": {},
     "source": [
      "We now have everything we need to do the calculation. For each node pair, calculate $J(i,j)$.\n",
      "\n",
      "\n"
     ]
    },
    {
     "cell_type": "heading",
     "level": 4,
     "metadata": {},
     "source": [
      "(Because of the sparsity of the dataset, we disregard data that has only one common node)"
     ]
    },
    {
     "cell_type": "code",
     "collapsed": false,
     "input": [
      "jaccard = {}\n",
      "for (i,j), k in shared_neighbors:\n",
      "    jccrd_num = k\n",
      "    jccrd_denom = indeg_data[i] + indeg_data[j] - k\n",
      "    jccrd = float(jccrd_num)/float(jccrd_denom) if jccrd_denom > 1 and jccrd_num >1 else 0\n",
      "    jaccard[(id_to_names[str(i)],id_to_names[str(j)])] = jccrd\n",
      "    \n",
      "    "
     ],
     "language": "python",
     "metadata": {},
     "outputs": [],
     "prompt_number": 6
    },
    {
     "cell_type": "code",
     "collapsed": false,
     "input": [
      "results = list(jaccard.items())"
     ],
     "language": "python",
     "metadata": {},
     "outputs": [],
     "prompt_number": 7
    },
    {
     "cell_type": "code",
     "collapsed": false,
     "input": [
      "srted_results = sorted(results, key= lambda x: x[1], reverse=True)"
     ],
     "language": "python",
     "metadata": {},
     "outputs": [],
     "prompt_number": 8
    },
    {
     "cell_type": "code",
     "collapsed": false,
     "input": [
      "srted_results[:20]"
     ],
     "language": "python",
     "metadata": {},
     "outputs": [
      {
       "metadata": {},
       "output_type": "pyout",
       "prompt_number": 9,
       "text": [
        "[(('twitter.com', 'typepad.com'), 1.0),\n",
        " (('amazon.co.uk', 'amazon.fr'), 1.0),\n",
        " (('amazon.ca', 'amazon.fr'), 1.0),\n",
        " (('amazon.com', 'bookdepository.co.uk'), 1.0),\n",
        " (('amazon.ca', 'shopbop.com'), 1.0),\n",
        " (('amazon.ca', 'amazon.cn'), 1.0),\n",
        " (('amazon.ca', 'amazon.co.uk'), 1.0),\n",
        " (('amazon.fr', 'shopbop.com'), 1.0),\n",
        " (('amazon.cn', 'shopbop.com'), 1.0),\n",
        " (('amazon.cn', 'amazon.fr'), 1.0),\n",
        " (('amazon.cn', 'amazon.co.uk'), 1.0),\n",
        " (('amazon.co.uk', 'shopbop.com'), 1.0),\n",
        " (('amazon.ca', 'bookdepository.co.uk'), 0.6666666666666666),\n",
        " (('amazon.com', 'shopbop.com'), 0.6666666666666666),\n",
        " (('amazon.cn', 'amazon.de'), 0.6666666666666666),\n",
        " (('amazon.ca', 'amazon.co.jp'), 0.6666666666666666),\n",
        " (('amazon.cn', 'bookdepository.co.uk'), 0.6666666666666666),\n",
        " (('amazon.ca', 'amazon.de'), 0.6666666666666666),\n",
        " (('amazon.co.jp', 'amazon.fr'), 0.6666666666666666),\n",
        " (('amazon.co.uk', 'amazon.de'), 0.6666666666666666)]"
       ]
      }
     ],
     "prompt_number": 9
    },
    {
     "cell_type": "code",
     "collapsed": false,
     "input": [],
     "language": "python",
     "metadata": {},
     "outputs": []
    }
   ],
   "metadata": {}
  }
 ]
}