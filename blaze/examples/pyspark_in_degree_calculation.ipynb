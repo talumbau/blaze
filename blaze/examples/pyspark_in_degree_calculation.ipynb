{
 "metadata": {
  "name": "",
  "signature": "sha256:66ac23be1f090b7fef7a2735c248062af3b01b0dfa66ca6e32321b6d1454575e"
 },
 "nbformat": 3,
 "nbformat_minor": 0,
 "worksheets": [
  {
   "cells": [
    {
     "cell_type": "code",
     "collapsed": false,
     "input": [
      "import blaze\n",
      "from blaze.data import CSV\n",
      "from blaze.expr.table import *\n",
      "from blaze.expr.table import *\n",
      "import math\n",
      "from blaze.compute.spark import *\n",
      "from blaze.expr.table import *\n",
      "from pyspark import SparkContext"
     ],
     "language": "python",
     "metadata": {},
     "outputs": [],
     "prompt_number": 1
    },
    {
     "cell_type": "heading",
     "level": 3,
     "metadata": {},
     "source": [
      "Create the table expressions and specify the calculation. We join on node_id and count the occurrences of node_id in second column"
     ]
    },
    {
     "cell_type": "code",
     "collapsed": false,
     "input": [
      "t_idx = TableSymbol('{name: string, node_id: int32}')\n",
      "t_arc = TableSymbol('{node_out: int32, node_id: int32}')\n",
      "joined = Join(t_arc, t_idx, \"node_id\")\n",
      "t = By(joined, joined['name'], joined['node_id'].count())"
     ],
     "language": "python",
     "metadata": {},
     "outputs": [],
     "prompt_number": 2
    },
    {
     "cell_type": "heading",
     "level": 3,
     "metadata": {},
     "source": [
      "Create the Spark context and load the data"
     ]
    },
    {
     "cell_type": "code",
     "collapsed": false,
     "input": [
      "sc = SparkContext(\"local\", \"Simple App\")\n",
      "rddidx = sc.textFile(\"hdfs://master.atx.continuum.io:9000/user/local/example/example_index.txt\")\n",
      "rddidx = rddidx.map(lambda x: x.split('\\t')).map(lambda x: [x[0], int(x[1])])\n",
      "#rddarc = sc.textFile(\"/Users/talumbau/Downloads/example_arcs.txt\")\n",
      "rddarc = sc.textFile(\"hdfs://master.atx.continuum.io:9000/user/local/example/example_arcs.txt\")\n",
      "rddarc = rddarc.map(lambda x: x.split('\\t')).map(lambda x: [int(x[0]), int(x[1])])"
     ],
     "language": "python",
     "metadata": {},
     "outputs": [],
     "prompt_number": 3
    },
    {
     "cell_type": "heading",
     "level": 3,
     "metadata": {},
     "source": [
      "Do the computation"
     ]
    },
    {
     "cell_type": "code",
     "collapsed": false,
     "input": [
      "ans = compute(t, {t_arc: rddarc, t_idx:rddidx})\n",
      "in_degree = dict(ans.collect())"
     ],
     "language": "python",
     "metadata": {},
     "outputs": [],
     "prompt_number": 4
    },
    {
     "cell_type": "heading",
     "level": 3,
     "metadata": {},
     "source": [
      "Find the in-degree of blogspot.com in the example data set"
     ]
    },
    {
     "cell_type": "code",
     "collapsed": false,
     "input": [
      "in_degree[u'blogspot.com']"
     ],
     "language": "python",
     "metadata": {},
     "outputs": [
      {
       "metadata": {},
       "output_type": "pyout",
       "prompt_number": 5,
       "text": [
        "14"
       ]
      }
     ],
     "prompt_number": 5
    },
    {
     "cell_type": "code",
     "collapsed": false,
     "input": [],
     "language": "python",
     "metadata": {},
     "outputs": []
    }
   ],
   "metadata": {}
  }
 ]
}